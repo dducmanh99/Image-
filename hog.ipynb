{
 "cells": [
  {
   "cell_type": "code",
   "execution_count": 1,
   "id": "6e738ca6",
   "metadata": {},
   "outputs": [],
   "source": [
    "import matplotlib.pyplot as plt\n",
    "import numpy as np\n",
    "\n",
    "from sklearn.cluster import KMeans\n",
    "from sklearn.datasets import load_sample_image\n",
    "from sklearn.metrics import pairwise_distances_argmin\n",
    "from sklearn.utils import shuffle\n",
    "import cv2 \n",
    "import os "
   ]
  },
  {
   "cell_type": "code",
   "execution_count": 3,
   "id": "9cd2ec2d",
   "metadata": {},
   "outputs": [],
   "source": [
    "# data_path= './output'\n",
    "data_path = './output_cre'"
   ]
  },
  {
   "cell_type": "code",
   "execution_count": 4,
   "id": "88fef36e",
   "metadata": {},
   "outputs": [],
   "source": [
    "def get_list_files(dirName):\n",
    "    file_list=os.listdir(dirName)\n",
    "    return file_list"
   ]
  },
  {
   "cell_type": "code",
   "execution_count": 5,
   "id": "597da375",
   "metadata": {},
   "outputs": [
    {
     "data": {
      "text/plain": [
       "'./output_cre/Circle_000dfc5c-2a92-11ea-8123-8363a7ec19e6.png'"
      ]
     },
     "execution_count": 5,
     "metadata": {},
     "output_type": "execute_result"
    }
   ],
   "source": [
    "data_path+'/'+get_list_files(data_path)[0]"
   ]
  },
  {
   "cell_type": "code",
   "execution_count": 6,
   "id": "e7a27c55",
   "metadata": {},
   "outputs": [
    {
     "data": {
      "text/plain": [
       "900"
      ]
     },
     "execution_count": 6,
     "metadata": {},
     "output_type": "execute_result"
    }
   ],
   "source": [
    "len(get_list_files(data_path))"
   ]
  },
  {
   "cell_type": "code",
   "execution_count": 7,
   "id": "6c40da30",
   "metadata": {},
   "outputs": [],
   "source": [
    "def crop_img(img,a):\n",
    "    mask = img!=a\n",
    "    mask = mask.any(2)\n",
    "    mask0, mask1 = mask.any(0), mask.any(1)\n",
    "#     print(mask1)\n",
    "    colstart, colend = mask0.argmax(), len(mask0) - mask0[::-1].argmax()+1\n",
    "    rowstart, rowend = mask1.argmax(), len(mask1) - mask1[::-1].argmax()+1\n",
    "    return img[rowstart:rowend, colstart:colend]"
   ]
  },
  {
   "cell_type": "code",
   "execution_count": 8,
   "id": "b0fbf6f0",
   "metadata": {},
   "outputs": [],
   "source": [
    "class_name =['Tri', 'Squ', 'Pen', 'Hex', 'Hep', 'Oct', 'Non', 'Cir', 'Sta']#9"
   ]
  },
  {
   "cell_type": "code",
   "execution_count": 66,
   "id": "a2c1b391",
   "metadata": {
    "scrolled": false
   },
   "outputs": [],
   "source": [
    "from skimage.feature import hog\n",
    "from skimage import exposure\n",
    "import imutils\n",
    "\n",
    "target = []\n",
    "images = []\n",
    "flat_data =[]\n",
    "\n",
    "path=os.path.join(data_path)\n",
    "i=0\n",
    "for img in os.listdir(path):\n",
    "\n",
    "    #input img\n",
    "        imgBGR = cv2.imread(os.path.join(path,img))\n",
    "        imgRGB = cv2.cvtColor(imgBGR,cv2.COLOR_BGR2RGB)\n",
    "#         plt.imshow(imgRGB)\n",
    "#         plt.show()\n",
    "        \n",
    "        #crop_img\n",
    "        a = imgRGB[0]\n",
    "        img_crop=crop_img(imgRGB,a)\n",
    "#         plt.imshow(img_crop)\n",
    "#         plt.show()\n",
    "        \n",
    "        img_cropGray=cv2.cvtColor(img_crop,cv2.COLOR_RGB2GRAY)\n",
    "        img_cropGray = cv2.resize(img_cropGray,(100,100))\n",
    "        img_cropGray = np.array(img_cropGray,dtype=np.float64)/255\n",
    "#         plt.imshow(img_cropGray)\n",
    "#         plt.show()\n",
    "        \n",
    "        #HOG\n",
    "        fd, hogImage = hog(img_cropGray, orientations=8, pixels_per_cell=(8, 8), cells_per_block=(2, 2), visualize=True,block_norm=\"L2\")\n",
    "        flat_data.append(fd.flatten())\n",
    "\n",
    "        hogImage = exposure.rescale_intensity(hogImage, out_range=(0, 255))\n",
    "        hogImage = hogImage.astype(\"uint8\")\n",
    "#         plt.imshow(hogImage)\n",
    "#         plt.show\n",
    "        \n",
    "\n",
    "        #target\n",
    "        path_class = os.path.join(path,img)[13:16]\n",
    "        target.append(class_name.index(path_class))\n",
    "        \n",
    "#         break\n",
    "        \n",
    "flat_data = np.array(flat_data)\n",
    "target = np.array(target)"
   ]
  },
  {
   "cell_type": "code",
   "execution_count": 55,
   "id": "7f13256c",
   "metadata": {},
   "outputs": [
    {
     "data": {
      "text/plain": [
       "<BarContainer object of 9 artists>"
      ]
     },
     "execution_count": 55,
     "metadata": {},
     "output_type": "execute_result"
    },
    {
     "data": {
      "image/png": "[encoded data removed]",
      "text/plain": [
       "<Figure size 640x480 with 1 Axes>"
      ]
     },
     "metadata": {},
     "output_type": "display_data"
    }
   ],
   "source": [
    "unique,count = np.unique(target,return_counts=True)\n",
    "plt.bar(class_name,count)"
   ]
  },
  {
   "cell_type": "code",
   "execution_count": 67,
   "id": "9ac2fdfe",
   "metadata": {},
   "outputs": [],
   "source": [
    "from sklearn.model_selection import train_test_split\n",
    "x_train, x_test, y_train, y_test = train_test_split(flat_data,target,test_size=0.3)"
   ]
  },
  {
   "cell_type": "code",
   "execution_count": 71,
   "id": "5a75662d",
   "metadata": {},
   "outputs": [
    {
     "data": {
      "text/html": [
       "<style>#sk-container-id-12 {color: black;}#sk-container-id-12 pre{padding: 0;}#sk-container-id-12 div.sk-toggleable {background-color: white;}#sk-container-id-12 label.sk-toggleable__label {cursor: pointer;display: block;width: 100%;margin-bottom: 0;padding: 0.3em;box-sizing: border-box;text-align: center;}#sk-container-id-12 label.sk-toggleable__label-arrow:before {content: \"▸\";float: left;margin-right: 0.25em;color: #696969;}#sk-container-id-12 label.sk-toggleable__label-arrow:hover:before {color: black;}#sk-container-id-12 div.sk-estimator:hover label.sk-toggleable__label-arrow:before {color: black;}#sk-container-id-12 div.sk-toggleable__content {max-height: 0;max-width: 0;overflow: hidden;text-align: left;background-color: #f0f8ff;}#sk-container-id-12 div.sk-toggleable__content pre {margin: 0.2em;color: black;border-radius: 0.25em;background-color: #f0f8ff;}#sk-container-id-12 input.sk-toggleable__control:checked~div.sk-toggleable__content {max-height: 200px;max-width: 100%;overflow: auto;}#sk-container-id-12 input.sk-toggleable__control:checked~label.sk-toggleable__label-arrow:before {content: \"▾\";}#sk-container-id-12 div.sk-estimator input.sk-toggleable__control:checked~label.sk-toggleable__label {background-color: #d4ebff;}#sk-container-id-12 div.sk-label input.sk-toggleable__control:checked~label.sk-toggleable__label {background-color: #d4ebff;}#sk-container-id-12 input.sk-hidden--visually {border: 0;clip: rect(1px 1px 1px 1px);clip: rect(1px, 1px, 1px, 1px);height: 1px;margin: -1px;overflow: hidden;padding: 0;position: absolute;width: 1px;}#sk-container-id-12 div.sk-estimator {font-family: monospace;background-color: #f0f8ff;border: 1px dotted black;border-radius: 0.25em;box-sizing: border-box;margin-bottom: 0.5em;}#sk-container-id-12 div.sk-estimator:hover {background-color: #d4ebff;}#sk-container-id-12 div.sk-parallel-item::after {content: \"\";width: 100%;border-bottom: 1px solid gray;flex-grow: 1;}#sk-container-id-12 div.sk-label:hover label.sk-toggleable__label {background-color: #d4ebff;}#sk-container-id-12 div.sk-serial::before {content: \"\";position: absolute;border-left: 1px solid gray;box-sizing: border-box;top: 0;bottom: 0;left: 50%;z-index: 0;}#sk-container-id-12 div.sk-serial {display: flex;flex-direction: column;align-items: center;background-color: white;padding-right: 0.2em;padding-left: 0.2em;position: relative;}#sk-container-id-12 div.sk-item {position: relative;z-index: 1;}#sk-container-id-12 div.sk-parallel {display: flex;align-items: stretch;justify-content: center;background-color: white;position: relative;}#sk-container-id-12 div.sk-item::before, #sk-container-id-12 div.sk-parallel-item::before {content: \"\";position: absolute;border-left: 1px solid gray;box-sizing: border-box;top: 0;bottom: 0;left: 50%;z-index: -1;}#sk-container-id-12 div.sk-parallel-item {display: flex;flex-direction: column;z-index: 1;position: relative;background-color: white;}#sk-container-id-12 div.sk-parallel-item:first-child::after {align-self: flex-end;width: 50%;}#sk-container-id-12 div.sk-parallel-item:last-child::after {align-self: flex-start;width: 50%;}#sk-container-id-12 div.sk-parallel-item:only-child::after {width: 0;}#sk-container-id-12 div.sk-dashed-wrapped {border: 1px dashed gray;margin: 0 0.4em 0.5em 0.4em;box-sizing: border-box;padding-bottom: 0.4em;background-color: white;}#sk-container-id-12 div.sk-label label {font-family: monospace;font-weight: bold;display: inline-block;line-height: 1.2em;}#sk-container-id-12 div.sk-label-container {text-align: center;}#sk-container-id-12 div.sk-container {/* jupyter's `normalize.less` sets `[hidden] { display: none; }` but bootstrap.min.css set `[hidden] { display: none !important; }` so we also need the `!important` here to be able to override the default hidden behavior on the sphinx rendered scikit-learn.org. See: https://github.com/scikit-learn/scikit-learn/issues/21755 */display: inline-block !important;position: relative;}#sk-container-id-12 div.sk-text-repr-fallback {display: none;}</style><div id=\"sk-container-id-12\" class=\"sk-top-container\"><div class=\"sk-text-repr-fallback\"><pre>RandomForestClassifier()</pre><b>In a Jupyter environment, please rerun this cell to show the HTML representation or trust the notebook. <br />On GitHub, the HTML representation is unable to render, please try loading this page with nbviewer.org.</b></div><div class=\"sk-container\" hidden><div class=\"sk-item\"><div class=\"sk-estimator sk-toggleable\"><input class=\"sk-toggleable__control sk-hidden--visually\" id=\"sk-estimator-id-12\" type=\"checkbox\" checked><label for=\"sk-estimator-id-12\" class=\"sk-toggleable__label sk-toggleable__label-arrow\">RandomForestClassifier</label><div class=\"sk-toggleable__content\"><pre>RandomForestClassifier()</pre></div></div></div></div></div>"
      ],
      "text/plain": [
       "RandomForestClassifier()"
      ]
     },
     "execution_count": 71,
     "metadata": {},
     "output_type": "execute_result"
    }
   ],
   "source": [
    "from sklearn.ensemble import RandomForestClassifier\n",
    "model1 = RandomForestClassifier()\n",
    "model1.fit(x_train,y_train)"
   ]
  },
  {
   "cell_type": "code",
   "execution_count": 72,
   "id": "8f8f5d41",
   "metadata": {},
   "outputs": [
    {
     "data": {
      "text/plain": [
       "0.9666666666666667"
      ]
     },
     "execution_count": 72,
     "metadata": {},
     "output_type": "execute_result"
    }
   ],
   "source": [
    "y_pred=model1.predict(x_test)\n",
    "model1.score(x_test,y_test)"
   ]
  },
  {
   "cell_type": "code",
   "execution_count": 73,
   "id": "578b2a29",
   "metadata": {},
   "outputs": [
    {
     "data": {
      "text/plain": [
       "0.9888888888888889"
      ]
     },
     "execution_count": 73,
     "metadata": {},
     "output_type": "execute_result"
    }
   ],
   "source": [
    "from sklearn.neighbors import KNeighborsClassifier\n",
    "model2 = KNeighborsClassifier()\n",
    "model2.fit(x_train,y_train)\n",
    "y_pred=model2.predict(x_test)\n",
    "model2.score(x_test,y_test)"
   ]
  },
  {
   "cell_type": "code",
   "execution_count": 74,
   "id": "634ade88",
   "metadata": {},
   "outputs": [
    {
     "data": {
      "text/plain": [
       "<matplotlib.image.AxesImage at 0x26b7bc9d550>"
      ]
     },
     "execution_count": 74,
     "metadata": {},
     "output_type": "execute_result"
    },
    {
     "data": {
      "image/png": "[encoded data removed]",
      "text/plain": [
       "<Figure size 640x480 with 4 Axes>"
      ]
     },
     "metadata": {},
     "output_type": "display_data"
    }
   ],
   "source": [
    "fig,(ax1,ax2,ax3,ax4) = plt.subplots(1,4)\n",
    "imgBGR = cv2.imread(os.path.join(path,'Star_000cf8ca-2a88-11ea-8123-8363a7ec19e6.png'))\n",
    "imgRGB = cv2.cvtColor(imgBGR,cv2.COLOR_BGR2RGB)\n",
    "ax1.imshow(imgRGB)\n",
    "\n",
    "a = imgRGB[0]\n",
    "img_crop=crop_img(imgRGB,a)\n",
    "ax2.imshow(img_crop)\n",
    "\n",
    "img_cropGray=cv2.cvtColor(img_crop,cv2.COLOR_RGB2GRAY)\n",
    "img_cropGray = cv2.resize(img_cropGray,(100,100))\n",
    "img_cropGray = np.array(img_cropGray,dtype=np.float64)/255\n",
    "ax3.imshow(img_cropGray)\n",
    "#HOG\n",
    "fd, hogImage = hog(img_cropGray, orientations=8, pixels_per_cell=(8, 8), cells_per_block=(2, 2), visualize=True,block_norm=\"L2\")\n",
    "\n",
    "hogImage = exposure.rescale_intensity(hogImage, out_range=(0, 255))\n",
    "hogImage = hogImage.astype(\"uint8\")\n",
    "ax4.imshow(hogImage)\n",
    "\n"
   ]
  },
  {
   "cell_type": "code",
   "execution_count": null,
   "id": "7b9f9772",
   "metadata": {},
   "outputs": [],
   "source": []
  }
 ],
 "metadata": {
  "kernelspec": {
   "display_name": "Python 3 (ipykernel)",
   "language": "python",
   "name": "python3"
  },
  "language_info": {
   "codemirror_mode": {
    "name": "ipython",
    "version": 3
   },
   "file_extension": ".py",
   "mimetype": "text/x-python",
   "name": "python",
   "nbconvert_exporter": "python",
   "pygments_lexer": "ipython3",
   "version": "3.9.13"
  }
 },
 "nbformat": 4,
 "nbformat_minor": 5
}
