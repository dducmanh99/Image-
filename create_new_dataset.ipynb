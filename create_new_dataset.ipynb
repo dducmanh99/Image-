{
 "cells": [
  {
   "cell_type": "code",
   "execution_count": 1,
   "id": "faaf7ab8",
   "metadata": {},
   "outputs": [],
   "source": [
    "import os \n",
    "import shutil"
   ]
  },
  {
   "cell_type": "code",
   "execution_count": 2,
   "id": "f5cbe2ca",
   "metadata": {},
   "outputs": [],
   "source": [
    "raw_path = './output'"
   ]
  },
  {
   "cell_type": "code",
   "execution_count": 3,
   "id": "0f5cc728",
   "metadata": {},
   "outputs": [],
   "source": [
    "new_path = 'output_cre'"
   ]
  },
  {
   "cell_type": "code",
   "execution_count": 6,
   "id": "3513b074",
   "metadata": {},
   "outputs": [],
   "source": [
    "path = os.path.join('./', new_path) \n",
    "os.mkdir(path)"
   ]
  },
  {
   "cell_type": "code",
   "execution_count": 8,
   "id": "93a1ac39",
   "metadata": {},
   "outputs": [
    {
     "data": {
      "text/plain": [
       "'./output_cre'"
      ]
     },
     "execution_count": 8,
     "metadata": {},
     "output_type": "execute_result"
    }
   ],
   "source": [
    "path"
   ]
  },
  {
   "cell_type": "code",
   "execution_count": 9,
   "id": "73900242",
   "metadata": {},
   "outputs": [],
   "source": [
    "class_name =['Tri', 'Squ', 'Pen', 'Hex', 'Hep', 'Oct', 'Non', 'Cir', 'Sta']#9\n",
    "class_store = [0]*9"
   ]
  },
  {
   "cell_type": "code",
   "execution_count": 12,
   "id": "fcff4ab9",
   "metadata": {},
   "outputs": [
    {
     "data": {
      "text/plain": [
       "9"
      ]
     },
     "execution_count": 12,
     "metadata": {},
     "output_type": "execute_result"
    }
   ],
   "source": [
    "len(class_name)"
   ]
  },
  {
   "cell_type": "code",
   "execution_count": 26,
   "id": "b35973f1",
   "metadata": {},
   "outputs": [],
   "source": [
    "for img in os.listdir(raw_path):\n",
    "    for img_name in class_name:\n",
    "        if os.path.join(raw_path,img)[9:12] == img_name:\n",
    "            if class_store[class_name.index(os.path.join(raw_path,img)[9:12])] <100:\n",
    "                dest = shutil.copyfile(raw_path+'/'+img,path+'/'+img)\n",
    "                class_store[class_name.index(os.path.join(raw_path,img)[9:12])] +=1 \n"
   ]
  },
  {
   "cell_type": "code",
   "execution_count": 27,
   "id": "3f7f1c33",
   "metadata": {},
   "outputs": [
    {
     "data": {
      "text/plain": [
       "900"
      ]
     },
     "execution_count": 27,
     "metadata": {},
     "output_type": "execute_result"
    }
   ],
   "source": [
    "len(os.listdir(path))"
   ]
  },
  {
   "cell_type": "code",
   "execution_count": 28,
   "id": "12f79bf3",
   "metadata": {},
   "outputs": [
    {
     "data": {
      "text/plain": [
       "[100, 100, 100, 100, 100, 100, 100, 100, 100]"
      ]
     },
     "execution_count": 28,
     "metadata": {},
     "output_type": "execute_result"
    }
   ],
   "source": [
    "class_store"
   ]
  },
  {
   "cell_type": "code",
   "execution_count": null,
   "id": "dc133c5d",
   "metadata": {},
   "outputs": [],
   "source": []
  }
 ],
 "metadata": {
  "kernelspec": {
   "display_name": "Python 3 (ipykernel)",
   "language": "python",
   "name": "python3"
  },
  "language_info": {
   "codemirror_mode": {
    "name": "ipython",
    "version": 3
   },
   "file_extension": ".py",
   "mimetype": "text/x-python",
   "name": "python",
   "nbconvert_exporter": "python",
   "pygments_lexer": "ipython3",
   "version": "3.9.13"
  }
 },
 "nbformat": 4,
 "nbformat_minor": 5
}
